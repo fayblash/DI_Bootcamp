{
 "cells": [
  {
   "cell_type": "code",
   "execution_count": 1,
   "id": "3fec52d2",
   "metadata": {},
   "outputs": [],
   "source": [
    "from numpy import random"
   ]
  },
  {
   "cell_type": "code",
   "execution_count": 3,
   "id": "9fcd8745",
   "metadata": {},
   "outputs": [],
   "source": [
    "x = random.randint(1,100, size=(random.randint(1,50),random.randint(1,40)))"
   ]
  },
  {
   "cell_type": "code",
   "execution_count": 7,
   "id": "11c2fabe",
   "metadata": {},
   "outputs": [
    {
     "data": {
      "text/plain": [
       "array([[47, 73, 61, ..., 87, 47,  2],\n",
       "       [53, 78,  4, ..., 50, 90,  3],\n",
       "       [27,  6, 70, ..., 35, 50, 17],\n",
       "       ...,\n",
       "       [56, 31, 54, ..., 36, 23, 91],\n",
       "       [42, 22,  2, ..., 63, 81, 52],\n",
       "       [22, 85, 23, ...,  7, 20, 44]])"
      ]
     },
     "execution_count": 7,
     "metadata": {},
     "output_type": "execute_result"
    }
   ],
   "source": [
    "x"
   ]
  },
  {
   "cell_type": "code",
   "execution_count": 9,
   "id": "a8def9eb",
   "metadata": {
    "scrolled": true
   },
   "outputs": [
    {
     "data": {
      "text/plain": [
       "array([27,  6, 70, 30, 69, 95, 62, 86, 58, 21, 51, 86, 86, 97, 90, 12, 27,\n",
       "       63, 84, 89, 84, 61, 54, 89, 22, 17, 93, 96, 78, 35, 50, 17])"
      ]
     },
     "execution_count": 9,
     "metadata": {},
     "output_type": "execute_result"
    }
   ],
   "source": [
    "x[2,:]"
   ]
  },
  {
   "cell_type": "code",
   "execution_count": 10,
   "id": "bdd19f32",
   "metadata": {
    "scrolled": false
   },
   "outputs": [
    {
     "data": {
      "text/plain": [
       "array([61,  4, 70, 95, 83, 34, 51, 90, 64, 56, 56, 25, 79, 62, 30, 49, 47,\n",
       "       93, 63, 77, 36, 16, 49, 74,  5,  4, 57, 54, 20, 60, 67, 22, 49, 73,\n",
       "       15, 58,  7, 85, 71,  3, 79, 82, 61, 45, 14, 54,  2, 23])"
      ]
     },
     "execution_count": 10,
     "metadata": {},
     "output_type": "execute_result"
    }
   ],
   "source": [
    "x[:,2]"
   ]
  },
  {
   "cell_type": "code",
   "execution_count": 11,
   "id": "6e9287ed",
   "metadata": {},
   "outputs": [],
   "source": [
    "x[-1]=7"
   ]
  },
  {
   "cell_type": "code",
   "execution_count": 12,
   "id": "d606111f",
   "metadata": {
    "scrolled": true
   },
   "outputs": [
    {
     "data": {
      "text/plain": [
       "array([[47, 73, 61, ..., 87, 47,  2],\n",
       "       [53, 78,  4, ..., 50, 90,  3],\n",
       "       [27,  6, 70, ..., 35, 50, 17],\n",
       "       ...,\n",
       "       [56, 31, 54, ..., 36, 23, 91],\n",
       "       [42, 22,  2, ..., 63, 81, 52],\n",
       "       [ 7,  7,  7, ...,  7,  7,  7]])"
      ]
     },
     "execution_count": 12,
     "metadata": {},
     "output_type": "execute_result"
    }
   ],
   "source": [
    "x"
   ]
  },
  {
   "cell_type": "code",
   "execution_count": 14,
   "id": "969d7ac1",
   "metadata": {},
   "outputs": [],
   "source": [
    "x[:,-1]=x[:,0]+x[:,1]"
   ]
  },
  {
   "cell_type": "code",
   "execution_count": 15,
   "id": "d77517a5",
   "metadata": {},
   "outputs": [
    {
     "data": {
      "text/plain": [
       "array([[ 47,  73,  61, ...,  87,  47, 120],\n",
       "       [ 53,  78,   4, ...,  50,  90, 131],\n",
       "       [ 27,   6,  70, ...,  35,  50,  33],\n",
       "       ...,\n",
       "       [ 56,  31,  54, ...,  36,  23,  87],\n",
       "       [ 42,  22,   2, ...,  63,  81,  64],\n",
       "       [  7,   7,   7, ...,   7,   7,  14]])"
      ]
     },
     "execution_count": 15,
     "metadata": {},
     "output_type": "execute_result"
    }
   ],
   "source": [
    "x"
   ]
  }
 ],
 "metadata": {
  "kernelspec": {
   "display_name": "Python 3",
   "language": "python",
   "name": "python3"
  },
  "language_info": {
   "codemirror_mode": {
    "name": "ipython",
    "version": 3
   },
   "file_extension": ".py",
   "mimetype": "text/x-python",
   "name": "python",
   "nbconvert_exporter": "python",
   "pygments_lexer": "ipython3",
   "version": "3.8.8"
  }
 },
 "nbformat": 4,
 "nbformat_minor": 5
}
